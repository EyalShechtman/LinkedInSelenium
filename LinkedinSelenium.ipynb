{
 "cells": [
  {
   "cell_type": "code",
   "execution_count": 44,
   "metadata": {},
   "outputs": [
    {
     "name": "stdout",
     "output_type": "stream",
     "text": [
      "Defaulting to user installation because normal site-packages is not writeable\n",
      "Collecting moviepy\n",
      "  Downloading moviepy-1.0.3.tar.gz (388 kB)\n",
      "\u001b[K     |████████████████████████████████| 388 kB 4.0 MB/s eta 0:00:01\n",
      "\u001b[?25hCollecting speechrecognition\n",
      "  Downloading SpeechRecognition-3.10.4-py2.py3-none-any.whl (32.8 MB)\n",
      "\u001b[K     |████████████████████████████████| 32.8 MB 1.9 MB/s eta 0:00:01\n",
      "\u001b[?25hCollecting opencv-python\n",
      "  Downloading opencv_python-4.10.0.84-cp37-abi3-macosx_11_0_arm64.whl (54.8 MB)\n",
      "\u001b[K     |████████████████████████████████| 54.8 MB 2.5 MB/s eta 0:00:012\n",
      "\u001b[?25hCollecting pytesseract\n",
      "  Downloading pytesseract-0.3.10-py3-none-any.whl (14 kB)\n",
      "Collecting decorator<5.0,>=4.0.2\n",
      "  Downloading decorator-4.4.2-py2.py3-none-any.whl (9.2 kB)\n",
      "Collecting tqdm<5.0,>=4.11.2\n",
      "  Downloading tqdm-4.66.5-py3-none-any.whl (78 kB)\n",
      "\u001b[K     |████████████████████████████████| 78 kB 5.4 MB/s eta 0:00:011\n",
      "\u001b[?25hCollecting requests<3.0,>=2.8.1\n",
      "  Downloading requests-2.32.3-py3-none-any.whl (64 kB)\n",
      "\u001b[K     |████████████████████████████████| 64 kB 5.5 MB/s eta 0:00:011\n",
      "\u001b[?25hCollecting proglog<=1.0.0\n",
      "  Downloading proglog-0.1.10-py3-none-any.whl (6.1 kB)\n",
      "Requirement already satisfied: numpy>=1.17.3 in /Users/nadyashechtman/Library/Python/3.9/lib/python/site-packages (from moviepy) (2.0.1)\n",
      "Collecting imageio<3.0,>=2.5\n",
      "  Downloading imageio-2.34.2-py3-none-any.whl (313 kB)\n",
      "\u001b[K     |████████████████████████████████| 313 kB 4.4 MB/s eta 0:00:01\n",
      "\u001b[?25hCollecting imageio_ffmpeg>=0.2.0\n",
      "  Downloading imageio-ffmpeg-0.5.1.tar.gz (17 kB)\n",
      "Requirement already satisfied: typing-extensions in /Users/nadyashechtman/Library/Python/3.9/lib/python/site-packages (from speechrecognition) (4.12.2)\n",
      "Collecting Pillow>=8.0.0\n",
      "  Downloading pillow-10.4.0-cp39-cp39-macosx_11_0_arm64.whl (3.4 MB)\n",
      "\u001b[K     |████████████████████████████████| 3.4 MB 3.4 MB/s eta 0:00:01\n",
      "\u001b[?25hRequirement already satisfied: packaging>=21.3 in /Users/nadyashechtman/Library/Python/3.9/lib/python/site-packages (from pytesseract) (24.1)\n",
      "Requirement already satisfied: setuptools in /Library/Developer/CommandLineTools/Library/Frameworks/Python3.framework/Versions/3.9/lib/python3.9/site-packages (from imageio_ffmpeg>=0.2.0->moviepy) (58.0.4)\n",
      "Requirement already satisfied: idna<4,>=2.5 in /Users/nadyashechtman/Library/Python/3.9/lib/python/site-packages (from requests<3.0,>=2.8.1->moviepy) (3.7)\n",
      "Requirement already satisfied: certifi>=2017.4.17 in /Users/nadyashechtman/Library/Python/3.9/lib/python/site-packages (from requests<3.0,>=2.8.1->moviepy) (2024.7.4)\n",
      "Collecting charset-normalizer<4,>=2\n",
      "  Downloading charset_normalizer-3.3.2-cp39-cp39-macosx_11_0_arm64.whl (120 kB)\n",
      "\u001b[K     |████████████████████████████████| 120 kB 4.6 MB/s eta 0:00:01\n",
      "\u001b[?25hRequirement already satisfied: urllib3<3,>=1.21.1 in /Users/nadyashechtman/Library/Python/3.9/lib/python/site-packages (from requests<3.0,>=2.8.1->moviepy) (2.2.2)\n",
      "Building wheels for collected packages: moviepy, imageio-ffmpeg\n",
      "  Building wheel for moviepy (setup.py) ... \u001b[?25ldone\n",
      "\u001b[?25h  Created wheel for moviepy: filename=moviepy-1.0.3-py3-none-any.whl size=110744 sha256=44f1f05e437771cde2c71494c2e79cbb4049036460810bc09763fdd9bc985cb6\n",
      "  Stored in directory: /Users/nadyashechtman/Library/Caches/pip/wheels/29/15/e4/4f790bec6acd51a00b67e8ee1394f0bc6e0135c315f8ff399a\n",
      "  Building wheel for imageio-ffmpeg (setup.py) ... \u001b[?25ldone\n",
      "\u001b[?25h  Created wheel for imageio-ffmpeg: filename=imageio_ffmpeg-0.5.1-py3-none-any.whl size=16725 sha256=0daa9425d5a2d940c872a16b059ad7256c97b49ff2d490bfe506ace9f45d2bd3\n",
      "  Stored in directory: /Users/nadyashechtman/Library/Caches/pip/wheels/a9/1f/a5/4902cfc75bc6b728b4c66e13f5e4863200337550b780ec7f33\n",
      "Successfully built moviepy imageio-ffmpeg\n",
      "Installing collected packages: tqdm, Pillow, charset-normalizer, requests, proglog, imageio-ffmpeg, imageio, decorator, speechrecognition, pytesseract, opencv-python, moviepy\n",
      "  Attempting uninstall: decorator\n",
      "    Found existing installation: decorator 5.1.1\n",
      "    Uninstalling decorator-5.1.1:\n",
      "      Successfully uninstalled decorator-5.1.1\n",
      "Successfully installed Pillow-10.4.0 charset-normalizer-3.3.2 decorator-4.4.2 imageio-2.34.2 imageio-ffmpeg-0.5.1 moviepy-1.0.3 opencv-python-4.10.0.84 proglog-0.1.10 pytesseract-0.3.10 requests-2.32.3 speechrecognition-3.10.4 tqdm-4.66.5\n",
      "\u001b[33mWARNING: You are using pip version 21.2.4; however, version 24.2 is available.\n",
      "You should consider upgrading via the '/Library/Developer/CommandLineTools/usr/bin/python3 -m pip install --upgrade pip' command.\u001b[0m\n",
      "Note: you may need to restart the kernel to use updated packages.\n"
     ]
    }
   ],
   "source": [
    "pip install moviepy speechrecognition opencv-python pytesseract selenium pandas openpyxl"
   ]
  },
  {
   "cell_type": "code",
   "execution_count": 34,
   "metadata": {},
   "outputs": [],
   "source": [
    "from selenium import webdriver\n",
    "import time\n",
    "from selenium import webdriver\n",
    "from selenium.webdriver.common.by import By\n",
    "from selenium.webdriver.common.keys import Keys\n",
    "from selenium.webdriver.support.ui import WebDriverWait\n",
    "from selenium.webdriver.support import expected_conditions as EC\n",
    "import pandas as pd"
   ]
  },
  {
   "cell_type": "code",
   "execution_count": 69,
   "metadata": {},
   "outputs": [],
   "source": [
    "##start OCR(Get Frames)\n",
    "\n",
    "##Get names from screen recordings of names\n",
    "import cv2\n",
    "\n",
    "video_path = 'VideoEZ.MP4'\n",
    "\n",
    "vidcap = cv2.VideoCapture(video_path)\n",
    "\n",
    "frame_count = 0\n",
    "saved_count = 0\n",
    "frame_interval = 10  # Save every 5th frame\n",
    "\n",
    "success, image = vidcap.read()\n",
    "\n",
    "while success:\n",
    "    if frame_count % frame_interval == 0:\n",
    "        cv2.imwrite(f\"frame{saved_count}.jpg\", image)\n",
    "        saved_count += 1  # Increment the count of saved frames\n",
    "    success, image = vidcap.read()\n",
    "    frame_count += 1  # Increment the count of total frames\n"
   ]
  },
  {
   "cell_type": "code",
   "execution_count": 70,
   "metadata": {},
   "outputs": [
    {
     "name": "stdout",
     "output_type": "stream",
     "text": [
      "4782\n"
     ]
    }
   ],
   "source": [
    "print(frame_count)"
   ]
  },
  {
   "cell_type": "code",
   "execution_count": null,
   "metadata": {},
   "outputs": [],
   "source": [
    "##READ OCR\n",
    "import pytesseract\n",
    "from PIL import Image\n",
    "\n",
    "\n",
    "final_set = set()\n",
    "final_dict = {}\n",
    "ID = 0\n",
    "actual_range = frame_count//frame_interval\n",
    "\n",
    "\n",
    "for i in range(actual_range):\n",
    "    frame_path = f'frame{i}.jpg'\n",
    "    img = Image.open(frame_path)\n",
    "    text = pytesseract.image_to_string(img)\n",
    "    final_set.add(text)\n",
    "    final_dict[text] = ID\n",
    "    ID+=1\n",
    "    print(f\"Text in frame {i}: {text}\")\n",
    "\n",
    "\n",
    "##Copy Text and use LLM to clean the text. Get the names now. "
   ]
  },
  {
   "cell_type": "code",
   "execution_count": null,
   "metadata": {},
   "outputs": [],
   "source": [
    "import re \n",
    "\n",
    "names = [\"example hello\", \"example 2hello\",\"example h3ello\",\"exa4mple hello\",\"exa5mple hello\"]\n",
    "result = re.split(r'\\d+.', names)\n",
    "\n",
    "# Remove newline characters from each element in the list and exclude empty strings\n",
    "result = [res.replace(\"\\n\", \"\").strip() for res in result if res.strip()]\n",
    "\n",
    "# Split each element by the first hyphen\n",
    "result = [res.split('-', 1) for res in result]\n",
    "\n",
    "\n",
    "\n",
    "print(result)\n",
    "len(result)\n"
   ]
  },
  {
   "cell_type": "code",
   "execution_count": null,
   "metadata": {},
   "outputs": [],
   "source": [
    "import pandas as pd\n",
    "\n",
    "df = pd.DataFrame(result, columns=['Names', 'Affiliation'])\n",
    "\n",
    "df['Affiliation'] = df['Affiliation'].fillna(\"\")\n",
    "\n",
    "df['linkedin'] = \"\"\n",
    "print(df)\n",
    "\n",
    "names_list = df[\"Names\"].tolist()"
   ]
  },
  {
   "cell_type": "code",
   "execution_count": 14,
   "metadata": {},
   "outputs": [
    {
     "name": "stdout",
     "output_type": "stream",
     "text": [
      "Profile URL: https://www.linkedin.com/search/results/all/?keywords=slava%20shechtman&origin=GLOBAL_SEARCH_HEADER&sid=lNs\n",
      "Profile URL: https://www.linkedin.com/in/eyal-shechtman/\n",
      "Profile URL: https://www.linkedin.com/search/results/all/?keywords=Ron%20Hoory&origin=GLOBAL_SEARCH_HEADER&sid=G%2C_\n",
      "Profile URL: https://www.linkedin.com/search/results/all/?keywords=Moshe%20Levi&origin=GLOBAL_SEARCH_HEADER&sid=T%3AG\n"
     ]
    }
   ],
   "source": [
    "from selenium import webdriver\n",
    "from selenium.webdriver.common.by import By\n",
    "from selenium.webdriver.common.keys import Keys\n",
    "from selenium.webdriver.support.ui import WebDriverWait\n",
    "from selenium.webdriver.support import expected_conditions as EC\n",
    "import time\n",
    "\n",
    "final_name_dict = {}\n",
    "driver = webdriver.Chrome()\n",
    "\n",
    "driver.get(\"https://www.linkedin.com/login\")\n",
    "\n",
    "time.sleep(2)\n",
    "\n",
    "email_field = driver.find_element(By.ID, \"username\")\n",
    "email_field.send_keys(\"your email to log into LinkedIn\") \n",
    "\n",
    "password_field = driver.find_element(By.ID, \"password\")\n",
    "password_field.send_keys(\"Your password to log into Linkedin\") \n",
    "\n",
    "login_button = driver.find_element(By.XPATH, \"//button[@type='submit']\")\n",
    "login_button.click()\n",
    "\n",
    "time.sleep(5)\n",
    "for name in names_list:\n",
    "    search_bar = driver.find_element(By.XPATH, \"//input[@placeholder='Search']\")\n",
    "    search_bar.clear()\n",
    "    search_bar.send_keys(name)  \n",
    "    search_bar.send_keys(Keys.RETURN)  \n",
    "\n",
    "    time.sleep(5)\n",
    "\n",
    "    first_profile = driver.find_element(By.XPATH, \"(//a[contains(@href, '/in/')])[1]\")\n",
    "    first_profile.click() \n",
    "\n",
    "    profile_url = driver.current_url\n",
    "    final_name_dict[name] = profile_url\n",
    "    \n",
    "    print(\"Profile URL:\", profile_url)\n",
    "\n",
    "# Close the browser\n",
    "driver.quit()"
   ]
  },
  {
   "cell_type": "code",
   "execution_count": null,
   "metadata": {},
   "outputs": [],
   "source": [
    "import pandas as pd\n",
    "\n",
    "\n",
    "\n",
    "# List of names\n",
    "fakeData = [\"example hello\", \"example 2hello\",\"example h3ello\",\"exa4mple hello\",\"exa5mple hello\"]\n",
    "\n",
    "# Corresponding affiliations\n",
    "Affi = [\"Company A\", \"Company B\", \"Company C\", \"Company D\"]\n",
    "\n",
    "# Create the DataFrame\n",
    "df = pd.DataFrame({\n",
    "    'Name': fakeData,\n",
    "    'Affiliation': Affi\n",
    "})\n",
    "\n",
    "# Initialize the LinkedIn column\n",
    "df[\"LinkedIn\"] = \"\"\n",
    "\n",
    "# Add LinkedIn URLs using a loop\n",
    "id = 1\n",
    "for name in fakeData:\n",
    "    df.loc[df['Name'] == name, \"LinkedIn\"] = \"linkedin.com/\" + str(id)\n",
    "    id += 1\n",
    "\n",
    "# Display the DataFrame\n",
    "print(df)"
   ]
  },
  {
   "cell_type": "code",
   "execution_count": null,
   "metadata": {},
   "outputs": [],
   "source": [
    "##Use the output above with the Profile URL to create your dictionary of Names and Linkedins\n",
    "##makes the dict into a DF and df.to_csv(xyz, index = False) will be able to make your csv file"
   ]
  }
 ],
 "metadata": {
  "kernelspec": {
   "display_name": "Python 3",
   "language": "python",
   "name": "python3"
  },
  "language_info": {
   "codemirror_mode": {
    "name": "ipython",
    "version": 3
   },
   "file_extension": ".py",
   "mimetype": "text/x-python",
   "name": "python",
   "nbconvert_exporter": "python",
   "pygments_lexer": "ipython3",
   "version": "3.9.6"
  }
 },
 "nbformat": 4,
 "nbformat_minor": 2
}
